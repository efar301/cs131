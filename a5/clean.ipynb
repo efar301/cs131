{
 "cells": [
  {
   "cell_type": "code",
   "execution_count": 2,
   "metadata": {
    "vscode": {
     "languageId": "plaintext"
    }
   },
   "outputs": [],
   "source": [
    "import csv\n",
    "\n",
    "input_file = \"Spotify_Youtube.csv\"\n",
    "output_file = \"clean_Spotify_Youtube.csv\"\n",
    "\n",
    "with open(input_file, \"r\", newline=\"\", encoding=\"utf-8\") as fin:\n",
    "    reader = csv.reader(fin)\n",
    "    header = next(reader)\n",
    "\n",
    "    # Find the index of the 'Description' column\n",
    "    try:\n",
    "        desc_index = header.index(\"Description\")\n",
    "    except ValueError:\n",
    "        raise Exception(\"No 'Description' column found in header\")\n",
    "\n",
    "    # Remove the 'Description' column from the header\n",
    "    new_header = header[:desc_index] + header[desc_index + 1:]\n",
    "\n",
    "    with open(output_file, \"w\", newline=\"\", encoding=\"utf-8\") as fout:\n",
    "        writer = csv.writer(fout)\n",
    "        writer.writerow(new_header)\n",
    "\n",
    "        for row in reader:\n",
    "            if len(row) == len(header):\n",
    "                # Remove the description column from the row\n",
    "                new_row = row[:desc_index] + row[desc_index + 1:]\n",
    "                writer.writerow(new_row)"
   ]
  },
  {
   "cell_type": "code",
   "execution_count": null,
   "metadata": {},
   "outputs": [],
   "source": []
  }
 ],
 "metadata": {
  "kernelspec": {
   "display_name": "Python 3 (ipykernel)",
   "language": "python",
   "name": "python3"
  },
  "language_info": {
   "codemirror_mode": {
    "name": "ipython",
    "version": 3
   },
   "file_extension": ".py",
   "mimetype": "text/x-python",
   "name": "python",
   "nbconvert_exporter": "python",
   "pygments_lexer": "ipython3",
   "version": "3.11.6"
  }
 },
 "nbformat": 4,
 "nbformat_minor": 4
}
